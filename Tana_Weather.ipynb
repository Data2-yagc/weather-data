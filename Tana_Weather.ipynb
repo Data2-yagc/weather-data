{
 "cells": [
  {
   "cell_type": "code",
   "execution_count": 1,
   "id": "a64b1bc8",
   "metadata": {},
   "outputs": [],
   "source": [
    "import requests\n",
    "import pandas as pd\n",
    "import awswrangler as wr\n",
    "import os\n",
    "import schedule\n",
    "import time\n",
    "from dotenv import load_dotenv"
   ]
  },
  {
   "cell_type": "code",
   "execution_count": 2,
   "id": "917fdfa3",
   "metadata": {},
   "outputs": [],
   "source": [
    "url = \"http://api.weatherapi.com/v1/current.json?key=a1ce2fadfa7847fca8465528231108&q=antananarivo&aqi=no\"\n",
    "\n",
    "# Make the API call\n",
    "response = requests.get(url)\n",
    "data = response.json()"
   ]
  },
  {
   "cell_type": "code",
   "execution_count": 3,
   "id": "e6da3d0e",
   "metadata": {},
   "outputs": [],
   "source": [
    "df = pd.DataFrame({\n",
    "    'Location': [data['location']['name']],\n",
    "    'Region': [data['location']['region']],\n",
    "    'Country': [data['location']['country']],\n",
    "    'Local Time': [data['location']['localtime']],\n",
    "    'Temperature (°C)': [data['current']['temp_c']],\n",
    "    'Condition': [data['current']['condition']['text']],\n",
    "    'Humidity (%)': [data['current']['humidity']],\n",
    "    'Wind (km/h)': [data['current']['wind_kph']],\n",
    "    'Feels Like (°C)': [data['current']['feelslike_c']]\n",
    "})"
   ]
  },
  {
   "cell_type": "code",
   "execution_count": 4,
   "id": "6cf5ddb8",
   "metadata": {},
   "outputs": [],
   "source": [
    "load_dotenv('/Users/tahiry/.env_aws')\n",
    "aws_access_key = os.environ.get('AWS_ACCESS_KEY_ID')\n",
    "aws_secret_key = os.environ.get('AWS_SECRET_ACCESS_KEY')"
   ]
  },
  {
   "cell_type": "code",
   "execution_count": 11,
   "id": "da572083",
   "metadata": {},
   "outputs": [],
   "source": [
    "def upload_to_s3():\n",
    "    print(\"uploading to s3....\")\n",
    "    s3_bucket_name = 'tanaweather'\n",
    "    s3_file_name = 'tana_weather_data.csv'\n",
    "    s3_path = f's3://{s3_bucket_name}/{s3_file_name}'\n",
    "    wr.s3.to_csv(df, path=s3_path, index=False, boto3_session=None,\n",
    "                 use_threads=True, mode=\"overwrite\", dataset=True)\n",
    "    \n",
    "    print(f\"{s3_file_name} uploaded to S3.\")\n",
    "\n",
    "\n"
   ]
  },
  {
   "cell_type": "code",
   "execution_count": 12,
   "id": "f12f5986",
   "metadata": {},
   "outputs": [
    {
     "name": "stdout",
     "output_type": "stream",
     "text": [
      "uploading to s3....\n",
      "tana_weather_data.csv uploaded to S3.\n"
     ]
    }
   ],
   "source": [
    "upload_to_s3()"
   ]
  },
  {
   "cell_type": "code",
   "execution_count": null,
   "id": "dbce6e11",
   "metadata": {},
   "outputs": [],
   "source": []
  }
 ],
 "metadata": {
  "kernelspec": {
   "display_name": "Python 3 (ipykernel)",
   "language": "python",
   "name": "python3"
  },
  "language_info": {
   "codemirror_mode": {
    "name": "ipython",
    "version": 3
   },
   "file_extension": ".py",
   "mimetype": "text/x-python",
   "name": "python",
   "nbconvert_exporter": "python",
   "pygments_lexer": "ipython3",
   "version": "3.10.9"
  }
 },
 "nbformat": 4,
 "nbformat_minor": 5
}
